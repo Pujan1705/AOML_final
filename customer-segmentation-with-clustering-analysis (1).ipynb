{
 "cells": [
  {
   "cell_type": "markdown",
   "id": "1cdbe439",
   "metadata": {
    "papermill": {
     "duration": 0.037974,
     "end_time": "2023-04-22T16:38:08.670366",
     "exception": false,
     "start_time": "2023-04-22T16:38:08.632392",
     "status": "completed"
    },
    "tags": []
   },
   "source": [
    "# Customer Segmentation"
   ]
  },
  {
   "cell_type": "code",
   "execution_count": 1,
   "id": "6d77feee",
   "metadata": {
    "execution": {
     "iopub.execute_input": "2023-04-22T16:38:08.744141Z",
     "iopub.status.busy": "2023-04-22T16:38:08.743662Z",
     "iopub.status.idle": "2023-04-22T16:38:10.490003Z",
     "shell.execute_reply": "2023-04-22T16:38:10.488964Z"
    },
    "papermill": {
     "duration": 1.787212,
     "end_time": "2023-04-22T16:38:10.493355",
     "exception": false,
     "start_time": "2023-04-22T16:38:08.706143",
     "status": "completed"
    },
    "tags": []
   },
   "outputs": [],
   "source": [
    "import pandas as pd\n",
    "import numpy as np\n",
    "import matplotlib.pyplot as plt\n",
    "import seaborn as sns\n",
    "from sklearn.cluster import KMeans, AgglomerativeClustering, DBSCAN\n",
    "from sklearn.preprocessing import StandardScaler\n",
    "from sklearn.metrics import silhouette_score\n",
    "from scipy.cluster.hierarchy import dendrogram"
   ]
  },
  {
   "cell_type": "markdown",
   "id": "e1bb7117",
   "metadata": {
    "papermill": {
     "duration": 0.034037,
     "end_time": "2023-04-22T16:38:10.563175",
     "exception": false,
     "start_time": "2023-04-22T16:38:10.529138",
     "status": "completed"
    },
    "tags": []
   },
   "source": [
    "# Introduction to Clustering\n",
    "\n",
    "Clustering is the task of dividing the unlabeled data or data points into different clusters such that similar data points fall  \\\n",
    "in the same cluster than those which differ from the others. In simple words, the aim of the clustering process is to segregate groups with similar traits and assign them into clusters.\n",
    "\n",
    "<img src=\"https://i.stack.imgur.com/cIDB3.png\">"
   ]
  },
  {
   "cell_type": "markdown",
   "id": "aebeb128",
   "metadata": {
    "papermill": {
     "duration": 0.035063,
     "end_time": "2023-04-22T16:38:10.636057",
     "exception": false,
     "start_time": "2023-04-22T16:38:10.600994",
     "status": "completed"
    },
    "tags": []
   },
   "source": [
    "## Importing the Dataset"
   ]
  },
  {
   "cell_type": "code",
   "execution_count": 2,
   "id": "49c2947d",
   "metadata": {
    "execution": {
     "iopub.execute_input": "2023-04-22T16:38:10.711145Z",
     "iopub.status.busy": "2023-04-22T16:38:10.710821Z",
     "iopub.status.idle": "2023-04-22T16:38:10.734348Z",
     "shell.execute_reply": "2023-04-22T16:38:10.733572Z"
    },
    "papermill": {
     "duration": 0.064829,
     "end_time": "2023-04-22T16:38:10.736662",
     "exception": false,
     "start_time": "2023-04-22T16:38:10.671833",
     "status": "completed"
    },
    "tags": []
   },
   "outputs": [],
   "source": [
    "data = pd.read_csv('../input/customer-clustering/segmentation data.csv')"
   ]
  },
  {
   "cell_type": "code",
   "execution_count": 3,
   "id": "20baa7ba",
   "metadata": {
    "execution": {
     "iopub.execute_input": "2023-04-22T16:38:10.811363Z",
     "iopub.status.busy": "2023-04-22T16:38:10.810737Z",
     "iopub.status.idle": "2023-04-22T16:38:10.818617Z",
     "shell.execute_reply": "2023-04-22T16:38:10.817676Z"
    },
    "papermill": {
     "duration": 0.049054,
     "end_time": "2023-04-22T16:38:10.820861",
     "exception": false,
     "start_time": "2023-04-22T16:38:10.771807",
     "status": "completed"
    },
    "tags": []
   },
   "outputs": [
    {
     "data": {
      "text/plain": [
       "(2000, 8)"
      ]
     },
     "execution_count": 3,
     "metadata": {},
     "output_type": "execute_result"
    }
   ],
   "source": [
    "data.shape"
   ]
  },
  {
   "cell_type": "code",
   "execution_count": 4,
   "id": "d6f9cf2d",
   "metadata": {
    "execution": {
     "iopub.execute_input": "2023-04-22T16:38:10.895709Z",
     "iopub.status.busy": "2023-04-22T16:38:10.895408Z",
     "iopub.status.idle": "2023-04-22T16:38:10.909323Z",
     "shell.execute_reply": "2023-04-22T16:38:10.908203Z"
    },
    "papermill": {
     "duration": 0.053392,
     "end_time": "2023-04-22T16:38:10.911720",
     "exception": false,
     "start_time": "2023-04-22T16:38:10.858328",
     "status": "completed"
    },
    "tags": []
   },
   "outputs": [],
   "source": [
    "data.drop(['ID'], inplace=True, axis=1)"
   ]
  },
  {
   "cell_type": "code",
   "execution_count": 5,
   "id": "ff6a3142",
   "metadata": {
    "execution": {
     "iopub.execute_input": "2023-04-22T16:38:10.988347Z",
     "iopub.status.busy": "2023-04-22T16:38:10.988016Z",
     "iopub.status.idle": "2023-04-22T16:38:11.005163Z",
     "shell.execute_reply": "2023-04-22T16:38:11.004263Z"
    },
    "papermill": {
     "duration": 0.059712,
     "end_time": "2023-04-22T16:38:11.007666",
     "exception": false,
     "start_time": "2023-04-22T16:38:10.947954",
     "status": "completed"
    },
    "tags": []
   },
   "outputs": [
    {
     "data": {
      "text/html": [
       "<div>\n",
       "<style scoped>\n",
       "    .dataframe tbody tr th:only-of-type {\n",
       "        vertical-align: middle;\n",
       "    }\n",
       "\n",
       "    .dataframe tbody tr th {\n",
       "        vertical-align: top;\n",
       "    }\n",
       "\n",
       "    .dataframe thead th {\n",
       "        text-align: right;\n",
       "    }\n",
       "</style>\n",
       "<table border=\"1\" class=\"dataframe\">\n",
       "  <thead>\n",
       "    <tr style=\"text-align: right;\">\n",
       "      <th></th>\n",
       "      <th>Sex</th>\n",
       "      <th>Marital status</th>\n",
       "      <th>Age</th>\n",
       "      <th>Education</th>\n",
       "      <th>Income</th>\n",
       "      <th>Occupation</th>\n",
       "      <th>Settlement size</th>\n",
       "    </tr>\n",
       "  </thead>\n",
       "  <tbody>\n",
       "    <tr>\n",
       "      <th>0</th>\n",
       "      <td>0</td>\n",
       "      <td>0</td>\n",
       "      <td>67</td>\n",
       "      <td>2</td>\n",
       "      <td>124670</td>\n",
       "      <td>1</td>\n",
       "      <td>2</td>\n",
       "    </tr>\n",
       "    <tr>\n",
       "      <th>1</th>\n",
       "      <td>1</td>\n",
       "      <td>1</td>\n",
       "      <td>22</td>\n",
       "      <td>1</td>\n",
       "      <td>150773</td>\n",
       "      <td>1</td>\n",
       "      <td>2</td>\n",
       "    </tr>\n",
       "    <tr>\n",
       "      <th>2</th>\n",
       "      <td>0</td>\n",
       "      <td>0</td>\n",
       "      <td>49</td>\n",
       "      <td>1</td>\n",
       "      <td>89210</td>\n",
       "      <td>0</td>\n",
       "      <td>0</td>\n",
       "    </tr>\n",
       "    <tr>\n",
       "      <th>3</th>\n",
       "      <td>0</td>\n",
       "      <td>0</td>\n",
       "      <td>45</td>\n",
       "      <td>1</td>\n",
       "      <td>171565</td>\n",
       "      <td>1</td>\n",
       "      <td>1</td>\n",
       "    </tr>\n",
       "    <tr>\n",
       "      <th>4</th>\n",
       "      <td>0</td>\n",
       "      <td>0</td>\n",
       "      <td>53</td>\n",
       "      <td>1</td>\n",
       "      <td>149031</td>\n",
       "      <td>1</td>\n",
       "      <td>1</td>\n",
       "    </tr>\n",
       "    <tr>\n",
       "      <th>5</th>\n",
       "      <td>0</td>\n",
       "      <td>0</td>\n",
       "      <td>35</td>\n",
       "      <td>1</td>\n",
       "      <td>144848</td>\n",
       "      <td>0</td>\n",
       "      <td>0</td>\n",
       "    </tr>\n",
       "    <tr>\n",
       "      <th>6</th>\n",
       "      <td>0</td>\n",
       "      <td>0</td>\n",
       "      <td>53</td>\n",
       "      <td>1</td>\n",
       "      <td>156495</td>\n",
       "      <td>1</td>\n",
       "      <td>1</td>\n",
       "    </tr>\n",
       "    <tr>\n",
       "      <th>7</th>\n",
       "      <td>0</td>\n",
       "      <td>0</td>\n",
       "      <td>35</td>\n",
       "      <td>1</td>\n",
       "      <td>193621</td>\n",
       "      <td>2</td>\n",
       "      <td>1</td>\n",
       "    </tr>\n",
       "    <tr>\n",
       "      <th>8</th>\n",
       "      <td>0</td>\n",
       "      <td>1</td>\n",
       "      <td>61</td>\n",
       "      <td>2</td>\n",
       "      <td>151591</td>\n",
       "      <td>0</td>\n",
       "      <td>0</td>\n",
       "    </tr>\n",
       "    <tr>\n",
       "      <th>9</th>\n",
       "      <td>0</td>\n",
       "      <td>1</td>\n",
       "      <td>28</td>\n",
       "      <td>1</td>\n",
       "      <td>174646</td>\n",
       "      <td>2</td>\n",
       "      <td>0</td>\n",
       "    </tr>\n",
       "  </tbody>\n",
       "</table>\n",
       "</div>"
      ],
      "text/plain": [
       "   Sex  Marital status  Age  Education  Income  Occupation  Settlement size\n",
       "0    0               0   67          2  124670           1                2\n",
       "1    1               1   22          1  150773           1                2\n",
       "2    0               0   49          1   89210           0                0\n",
       "3    0               0   45          1  171565           1                1\n",
       "4    0               0   53          1  149031           1                1\n",
       "5    0               0   35          1  144848           0                0\n",
       "6    0               0   53          1  156495           1                1\n",
       "7    0               0   35          1  193621           2                1\n",
       "8    0               1   61          2  151591           0                0\n",
       "9    0               1   28          1  174646           2                0"
      ]
     },
     "execution_count": 5,
     "metadata": {},
     "output_type": "execute_result"
    }
   ],
   "source": [
    "data.head(10)"
   ]
  },
  {
   "cell_type": "code",
   "execution_count": 6,
   "id": "eb54cf9f",
   "metadata": {
    "execution": {
     "iopub.execute_input": "2023-04-22T16:38:11.084409Z",
     "iopub.status.busy": "2023-04-22T16:38:11.083530Z",
     "iopub.status.idle": "2023-04-22T16:38:11.124981Z",
     "shell.execute_reply": "2023-04-22T16:38:11.124068Z"
    },
    "papermill": {
     "duration": 0.080675,
     "end_time": "2023-04-22T16:38:11.127309",
     "exception": false,
     "start_time": "2023-04-22T16:38:11.046634",
     "status": "completed"
    },
    "tags": []
   },
   "outputs": [
    {
     "data": {
      "text/html": [
       "<div>\n",
       "<style scoped>\n",
       "    .dataframe tbody tr th:only-of-type {\n",
       "        vertical-align: middle;\n",
       "    }\n",
       "\n",
       "    .dataframe tbody tr th {\n",
       "        vertical-align: top;\n",
       "    }\n",
       "\n",
       "    .dataframe thead th {\n",
       "        text-align: right;\n",
       "    }\n",
       "</style>\n",
       "<table border=\"1\" class=\"dataframe\">\n",
       "  <thead>\n",
       "    <tr style=\"text-align: right;\">\n",
       "      <th></th>\n",
       "      <th>Sex</th>\n",
       "      <th>Marital status</th>\n",
       "      <th>Age</th>\n",
       "      <th>Education</th>\n",
       "      <th>Income</th>\n",
       "      <th>Occupation</th>\n",
       "      <th>Settlement size</th>\n",
       "    </tr>\n",
       "  </thead>\n",
       "  <tbody>\n",
       "    <tr>\n",
       "      <th>count</th>\n",
       "      <td>2000.000000</td>\n",
       "      <td>2000.000000</td>\n",
       "      <td>2000.000000</td>\n",
       "      <td>2000.00000</td>\n",
       "      <td>2000.000000</td>\n",
       "      <td>2000.000000</td>\n",
       "      <td>2000.000000</td>\n",
       "    </tr>\n",
       "    <tr>\n",
       "      <th>mean</th>\n",
       "      <td>0.457000</td>\n",
       "      <td>0.496500</td>\n",
       "      <td>35.909000</td>\n",
       "      <td>1.03800</td>\n",
       "      <td>120954.419000</td>\n",
       "      <td>0.810500</td>\n",
       "      <td>0.739000</td>\n",
       "    </tr>\n",
       "    <tr>\n",
       "      <th>std</th>\n",
       "      <td>0.498272</td>\n",
       "      <td>0.500113</td>\n",
       "      <td>11.719402</td>\n",
       "      <td>0.59978</td>\n",
       "      <td>38108.824679</td>\n",
       "      <td>0.638587</td>\n",
       "      <td>0.812533</td>\n",
       "    </tr>\n",
       "    <tr>\n",
       "      <th>min</th>\n",
       "      <td>0.000000</td>\n",
       "      <td>0.000000</td>\n",
       "      <td>18.000000</td>\n",
       "      <td>0.00000</td>\n",
       "      <td>35832.000000</td>\n",
       "      <td>0.000000</td>\n",
       "      <td>0.000000</td>\n",
       "    </tr>\n",
       "    <tr>\n",
       "      <th>25%</th>\n",
       "      <td>0.000000</td>\n",
       "      <td>0.000000</td>\n",
       "      <td>27.000000</td>\n",
       "      <td>1.00000</td>\n",
       "      <td>97663.250000</td>\n",
       "      <td>0.000000</td>\n",
       "      <td>0.000000</td>\n",
       "    </tr>\n",
       "    <tr>\n",
       "      <th>50%</th>\n",
       "      <td>0.000000</td>\n",
       "      <td>0.000000</td>\n",
       "      <td>33.000000</td>\n",
       "      <td>1.00000</td>\n",
       "      <td>115548.500000</td>\n",
       "      <td>1.000000</td>\n",
       "      <td>1.000000</td>\n",
       "    </tr>\n",
       "    <tr>\n",
       "      <th>75%</th>\n",
       "      <td>1.000000</td>\n",
       "      <td>1.000000</td>\n",
       "      <td>42.000000</td>\n",
       "      <td>1.00000</td>\n",
       "      <td>138072.250000</td>\n",
       "      <td>1.000000</td>\n",
       "      <td>1.000000</td>\n",
       "    </tr>\n",
       "    <tr>\n",
       "      <th>max</th>\n",
       "      <td>1.000000</td>\n",
       "      <td>1.000000</td>\n",
       "      <td>76.000000</td>\n",
       "      <td>3.00000</td>\n",
       "      <td>309364.000000</td>\n",
       "      <td>2.000000</td>\n",
       "      <td>2.000000</td>\n",
       "    </tr>\n",
       "  </tbody>\n",
       "</table>\n",
       "</div>"
      ],
      "text/plain": [
       "               Sex  Marital status          Age   Education         Income  \\\n",
       "count  2000.000000     2000.000000  2000.000000  2000.00000    2000.000000   \n",
       "mean      0.457000        0.496500    35.909000     1.03800  120954.419000   \n",
       "std       0.498272        0.500113    11.719402     0.59978   38108.824679   \n",
       "min       0.000000        0.000000    18.000000     0.00000   35832.000000   \n",
       "25%       0.000000        0.000000    27.000000     1.00000   97663.250000   \n",
       "50%       0.000000        0.000000    33.000000     1.00000  115548.500000   \n",
       "75%       1.000000        1.000000    42.000000     1.00000  138072.250000   \n",
       "max       1.000000        1.000000    76.000000     3.00000  309364.000000   \n",
       "\n",
       "        Occupation  Settlement size  \n",
       "count  2000.000000      2000.000000  \n",
       "mean      0.810500         0.739000  \n",
       "std       0.638587         0.812533  \n",
       "min       0.000000         0.000000  \n",
       "25%       0.000000         0.000000  \n",
       "50%       1.000000         1.000000  \n",
       "75%       1.000000         1.000000  \n",
       "max       2.000000         2.000000  "
      ]
     },
     "execution_count": 6,
     "metadata": {},
     "output_type": "execute_result"
    }
   ],
   "source": [
    "data.describe()"
   ]
  },
  {
   "cell_type": "code",
   "execution_count": 7,
   "id": "4bd37c7e",
   "metadata": {
    "execution": {
     "iopub.execute_input": "2023-04-22T16:38:11.206822Z",
     "iopub.status.busy": "2023-04-22T16:38:11.206510Z",
     "iopub.status.idle": "2023-04-22T16:38:11.215628Z",
     "shell.execute_reply": "2023-04-22T16:38:11.214570Z"
    },
    "papermill": {
     "duration": 0.051209,
     "end_time": "2023-04-22T16:38:11.218156",
     "exception": false,
     "start_time": "2023-04-22T16:38:11.166947",
     "status": "completed"
    },
    "tags": []
   },
   "outputs": [
    {
     "data": {
      "text/plain": [
       "Sex                0\n",
       "Marital status     0\n",
       "Age                0\n",
       "Education          0\n",
       "Income             0\n",
       "Occupation         0\n",
       "Settlement size    0\n",
       "dtype: int64"
      ]
     },
     "execution_count": 7,
     "metadata": {},
     "output_type": "execute_result"
    }
   ],
   "source": [
    "data.isna().sum()"
   ]
  },
  {
   "cell_type": "markdown",
   "id": "f8f0c179",
   "metadata": {
    "papermill": {
     "duration": 0.038358,
     "end_time": "2023-04-22T16:38:11.293364",
     "exception": false,
     "start_time": "2023-04-22T16:38:11.255006",
     "status": "completed"
    },
    "tags": []
   },
   "source": [
    "## Exploratory Data Analysis"
   ]
  },
  {
   "cell_type": "code",
   "execution_count": 8,
   "id": "8a915c88",
   "metadata": {
    "execution": {
     "iopub.execute_input": "2023-04-22T16:38:11.378883Z",
     "iopub.status.busy": "2023-04-22T16:38:11.378562Z",
     "iopub.status.idle": "2023-04-22T16:38:11.718583Z",
     "shell.execute_reply": "2023-04-22T16:38:11.717417Z"
    },
    "papermill": {
     "duration": 0.386227,
     "end_time": "2023-04-22T16:38:11.721121",
     "exception": false,
     "start_time": "2023-04-22T16:38:11.334894",
     "status": "completed"
    },
    "tags": []
   },
   "outputs": [
    {
     "data": {
      "image/png": "[encoded data removed]",
      "text/plain": [
       "<Figure size 1512x1080 with 2 Axes>"
      ]
     },
     "metadata": {
      "needs_background": "light"
     },
     "output_type": "display_data"
    }
   ],
   "source": [
    "plt.figure(figsize=(21,15))\n",
    "\n",
    "plt.subplot2grid((2,2), (0,0))\n",
    "box1 = sns.boxplot(y=data.Age)\n",
    "plt.title(\"Age\")\n",
    "\n",
    "plt.subplot2grid((2,2), (0,1))\n",
    "box2 = sns.boxplot(y=data.Income)\n",
    "plt.title(\"Income\")\n",
    "\n",
    "plt.show()"
   ]
  },
  {
   "cell_type": "code",
   "execution_count": 9,
   "id": "d1ab6249",
   "metadata": {
    "execution": {
     "iopub.execute_input": "2023-04-22T16:38:11.803906Z",
     "iopub.status.busy": "2023-04-22T16:38:11.802880Z",
     "iopub.status.idle": "2023-04-22T16:38:11.813899Z",
     "shell.execute_reply": "2023-04-22T16:38:11.812863Z"
    },
    "papermill": {
     "duration": 0.055759,
     "end_time": "2023-04-22T16:38:11.816464",
     "exception": false,
     "start_time": "2023-04-22T16:38:11.760705",
     "status": "completed"
    },
    "tags": []
   },
   "outputs": [
    {
     "data": {
      "text/plain": [
       "count    2000.000000\n",
       "mean       35.909000\n",
       "std        11.719402\n",
       "min        18.000000\n",
       "25%        27.000000\n",
       "50%        33.000000\n",
       "75%        42.000000\n",
       "max        76.000000\n",
       "Name: Age, dtype: float64"
      ]
     },
     "execution_count": 9,
     "metadata": {},
     "output_type": "execute_result"
    }
   ],
   "source": [
    "data.Age.describe()"
   ]
  },
  {
   "cell_type": "code",
   "execution_count": 10,
   "id": "44c25532",
   "metadata": {
    "execution": {
     "iopub.execute_input": "2023-04-22T16:38:11.899843Z",
     "iopub.status.busy": "2023-04-22T16:38:11.899191Z",
     "iopub.status.idle": "2023-04-22T16:38:11.908602Z",
     "shell.execute_reply": "2023-04-22T16:38:11.907914Z"
    },
    "papermill": {
     "duration": 0.055115,
     "end_time": "2023-04-22T16:38:11.910764",
     "exception": false,
     "start_time": "2023-04-22T16:38:11.855649",
     "status": "completed"
    },
    "tags": []
   },
   "outputs": [
    {
     "data": {
      "text/plain": [
       "count      2000.000000\n",
       "mean     120954.419000\n",
       "std       38108.824679\n",
       "min       35832.000000\n",
       "25%       97663.250000\n",
       "50%      115548.500000\n",
       "75%      138072.250000\n",
       "max      309364.000000\n",
       "Name: Income, dtype: float64"
      ]
     },
     "execution_count": 10,
     "metadata": {},
     "output_type": "execute_result"
    }
   ],
   "source": [
    "data.Income.describe()"
   ]
  },
  {
   "cell_type": "markdown",
   "id": "b4c1fdb5",
   "metadata": {
    "papermill": {
     "duration": 0.038435,
     "end_time": "2023-04-22T16:38:11.987223",
     "exception": false,
     "start_time": "2023-04-22T16:38:11.948788",
     "status": "completed"
    },
    "tags": []
   },
   "source": [
    "### Inferences\n",
    "- Mean age is approximately 36 years. Max is 76 meanwhile Min is 18.\n",
    "- Mean income is 121k. Max is 310k meanwhile Min is 36k."
   ]
  },
  {
   "cell_type": "markdown",
   "id": "fede2351",
   "metadata": {
    "papermill": {
     "duration": 0.037433,
     "end_time": "2023-04-22T16:38:12.063946",
     "exception": false,
     "start_time": "2023-04-22T16:38:12.026513",
     "status": "completed"
    },
    "tags": []
   },
   "source": [
    "### Proportion of data values in each feature"
   ]
  },
  {
   "cell_type": "code",
   "execution_count": 11,
   "id": "d9baa739",
   "metadata": {
    "execution": {
     "iopub.execute_input": "2023-04-22T16:38:12.141935Z",
     "iopub.status.busy": "2023-04-22T16:38:12.141407Z",
     "iopub.status.idle": "2023-04-22T16:38:12.828678Z",
     "shell.execute_reply": "2023-04-22T16:38:12.827723Z"
    },
    "papermill": {
     "duration": 0.728756,
     "end_time": "2023-04-22T16:38:12.830829",
     "exception": false,
     "start_time": "2023-04-22T16:38:12.102073",
     "status": "completed"
    },
    "tags": []
   },
   "outputs": [
    {
     "data": {
      "image/png": "[encoded data removed]",
      "text/plain": [
       "<Figure size 1512x1080 with 5 Axes>"
      ]
     },
     "metadata": {
      "needs_background": "light"
     },
     "output_type": "display_data"
    }
   ],
   "source": [
    "plt.figure(figsize=(21,15))\n",
    "\n",
    "plt.subplot2grid((3,3), (0,0))\n",
    "sns.histplot(data.Sex.astype(str), stat='proportion')\n",
    "\n",
    "plt.subplot2grid((3,3), (0,1))\n",
    "sns.histplot(data['Marital status'].astype(str), stat='proportion')\n",
    "\n",
    "plt.subplot2grid((3,3), (0,2))\n",
    "sns.histplot(data.Education.astype(str).sort_values(), stat='proportion')\n",
    "\n",
    "plt.subplot2grid((3,3), (1,0))\n",
    "sns.histplot(data.Occupation.astype(str).sort_values(), stat='proportion')\n",
    "\n",
    "plt.subplot2grid((3,3), (1,1))\n",
    "sns.histplot(data['Settlement size'].astype(str).sort_values(), stat='proportion')\n",
    "\n",
    "plt.show()"
   ]
  },
  {
   "cell_type": "markdown",
   "id": "c183837c",
   "metadata": {
    "papermill": {
     "duration": 0.039098,
     "end_time": "2023-04-22T16:38:12.910920",
     "exception": false,
     "start_time": "2023-04-22T16:38:12.871822",
     "status": "completed"
    },
    "tags": []
   },
   "source": [
    "# Standardizing the Data"
   ]
  },
  {
   "cell_type": "code",
   "execution_count": 12,
   "id": "60a329a4",
   "metadata": {
    "execution": {
     "iopub.execute_input": "2023-04-22T16:38:12.995083Z",
     "iopub.status.busy": "2023-04-22T16:38:12.994088Z",
     "iopub.status.idle": "2023-04-22T16:38:13.003531Z",
     "shell.execute_reply": "2023-04-22T16:38:13.002515Z"
    },
    "papermill": {
     "duration": 0.05561,
     "end_time": "2023-04-22T16:38:13.006149",
     "exception": false,
     "start_time": "2023-04-22T16:38:12.950539",
     "status": "completed"
    },
    "tags": []
   },
   "outputs": [],
   "source": [
    "ss = StandardScaler()\n",
    "data = pd.DataFrame(ss.fit_transform(data))"
   ]
  },
  {
   "cell_type": "markdown",
   "id": "6f6d4aa2",
   "metadata": {
    "papermill": {
     "duration": 0.040545,
     "end_time": "2023-04-22T16:38:13.089052",
     "exception": false,
     "start_time": "2023-04-22T16:38:13.048507",
     "status": "completed"
    },
    "tags": []
   },
   "source": [
    "# K Means Model\n",
    "\n",
    "K-means clustering is a popular unsupervised machine learning algorithm used to group data points with similar characteristics into K number of clusters. It works by first randomly assigning K number of centroids to the data points, and then iteratively adjusting the centroids to minimize the sum of squared distances between the data points and their assigned centroid. This process continues until convergence or until a maximum number of iterations is reached.\n",
    "\n",
    "<img src=\"https://av-eks-blogoptimized.s3.amazonaws.com/40672tb2.png\">"
   ]
  },
  {
   "cell_type": "markdown",
   "id": "242d0dcb",
   "metadata": {
    "papermill": {
     "duration": 0.041955,
     "end_time": "2023-04-22T16:38:13.174430",
     "exception": false,
     "start_time": "2023-04-22T16:38:13.132475",
     "status": "completed"
    },
    "tags": []
   },
   "source": [
    "## Determining number of clusters : Elbow Method\n",
    "\n",
    "The elbow method is a technique used to determine the optimal number of clusters in a dataset for k-means clustering. The method works by plotting the Within Cluster Sum of Squares (WCSS) between each data point and its assigned centroid for different values of K.\n",
    "\n",
    "As K increases, the WCSS tends to decrease, since with more clusters, each data point is likely to be closer to its assigned centroid. However, beyond a certain point, the improvement in SSE becomes less significant, and the plot of WCSS versus K starts to form an elbow shape. For this, we will train multiple K means model with clusters ranging from 1-10."
   ]
  },
  {
   "cell_type": "code",
   "execution_count": 13,
   "id": "fb896c62",
   "metadata": {
    "execution": {
     "iopub.execute_input": "2023-04-22T16:38:13.258168Z",
     "iopub.status.busy": "2023-04-22T16:38:13.257844Z",
     "iopub.status.idle": "2023-04-22T16:38:26.395643Z",
     "shell.execute_reply": "2023-04-22T16:38:26.394350Z"
    },
    "papermill": {
     "duration": 13.181977,
     "end_time": "2023-04-22T16:38:26.398811",
     "exception": false,
     "start_time": "2023-04-22T16:38:13.216834",
     "status": "completed"
    },
    "tags": []
   },
   "outputs": [],
   "source": [
    "wcss = {'wcss_score':[], 'no_of_clusters':[]}\n",
    "for i in range(1,11):\n",
    "    kmeans = KMeans(i, random_state=0)\n",
    "    kmeans.fit(data)\n",
    "    wcss['wcss_score'].append(kmeans.inertia_)\n",
    "    wcss['no_of_clusters'].append(i)\n",
    "wcss_df = pd.DataFrame(wcss)"
   ]
  },
  {
   "cell_type": "code",
   "execution_count": 14,
   "id": "580cdf5e",
   "metadata": {
    "execution": {
     "iopub.execute_input": "2023-04-22T16:38:26.486511Z",
     "iopub.status.busy": "2023-04-22T16:38:26.484729Z",
     "iopub.status.idle": "2023-04-22T16:38:26.500981Z",
     "shell.execute_reply": "2023-04-22T16:38:26.500008Z"
    },
    "papermill": {
     "duration": 0.060171,
     "end_time": "2023-04-22T16:38:26.503410",
     "exception": false,
     "start_time": "2023-04-22T16:38:26.443239",
     "status": "completed"
    },
    "tags": []
   },
   "outputs": [
    {
     "data": {
      "text/html": [
       "<div>\n",
       "<style scoped>\n",
       "    .dataframe tbody tr th:only-of-type {\n",
       "        vertical-align: middle;\n",
       "    }\n",
       "\n",
       "    .dataframe tbody tr th {\n",
       "        vertical-align: top;\n",
       "    }\n",
       "\n",
       "    .dataframe thead th {\n",
       "        text-align: right;\n",
       "    }\n",
       "</style>\n",
       "<table border=\"1\" class=\"dataframe\">\n",
       "  <thead>\n",
       "    <tr style=\"text-align: right;\">\n",
       "      <th></th>\n",
       "      <th>wcss_score</th>\n",
       "      <th>no_of_clusters</th>\n",
       "    </tr>\n",
       "  </thead>\n",
       "  <tbody>\n",
       "    <tr>\n",
       "      <th>0</th>\n",
       "      <td>14000.000000</td>\n",
       "      <td>1</td>\n",
       "    </tr>\n",
       "    <tr>\n",
       "      <th>1</th>\n",
       "      <td>10514.347126</td>\n",
       "      <td>2</td>\n",
       "    </tr>\n",
       "    <tr>\n",
       "      <th>2</th>\n",
       "      <td>8631.672548</td>\n",
       "      <td>3</td>\n",
       "    </tr>\n",
       "    <tr>\n",
       "      <th>3</th>\n",
       "      <td>7169.870822</td>\n",
       "      <td>4</td>\n",
       "    </tr>\n",
       "    <tr>\n",
       "      <th>4</th>\n",
       "      <td>6403.082701</td>\n",
       "      <td>5</td>\n",
       "    </tr>\n",
       "    <tr>\n",
       "      <th>5</th>\n",
       "      <td>5881.453398</td>\n",
       "      <td>6</td>\n",
       "    </tr>\n",
       "    <tr>\n",
       "      <th>6</th>\n",
       "      <td>5369.717653</td>\n",
       "      <td>7</td>\n",
       "    </tr>\n",
       "    <tr>\n",
       "      <th>7</th>\n",
       "      <td>4984.469020</td>\n",
       "      <td>8</td>\n",
       "    </tr>\n",
       "    <tr>\n",
       "      <th>8</th>\n",
       "      <td>4688.677803</td>\n",
       "      <td>9</td>\n",
       "    </tr>\n",
       "    <tr>\n",
       "      <th>9</th>\n",
       "      <td>4349.546981</td>\n",
       "      <td>10</td>\n",
       "    </tr>\n",
       "  </tbody>\n",
       "</table>\n",
       "</div>"
      ],
      "text/plain": [
       "     wcss_score  no_of_clusters\n",
       "0  14000.000000               1\n",
       "1  10514.347126               2\n",
       "2   8631.672548               3\n",
       "3   7169.870822               4\n",
       "4   6403.082701               5\n",
       "5   5881.453398               6\n",
       "6   5369.717653               7\n",
       "7   4984.469020               8\n",
       "8   4688.677803               9\n",
       "9   4349.546981              10"
      ]
     },
     "execution_count": 14,
     "metadata": {},
     "output_type": "execute_result"
    }
   ],
   "source": [
    "wcss_df.head(10)"
   ]
  },
  {
   "cell_type": "code",
   "execution_count": 15,
   "id": "f4c23681",
   "metadata": {
    "execution": {
     "iopub.execute_input": "2023-04-22T16:38:26.588545Z",
     "iopub.status.busy": "2023-04-22T16:38:26.588161Z",
     "iopub.status.idle": "2023-04-22T16:38:26.834412Z",
     "shell.execute_reply": "2023-04-22T16:38:26.833078Z"
    },
    "papermill": {
     "duration": 0.292152,
     "end_time": "2023-04-22T16:38:26.838354",
     "exception": false,
     "start_time": "2023-04-22T16:38:26.546202",
     "status": "completed"
    },
    "tags": []
   },
   "outputs": [
    {
     "data": {
      "image/png": "[encoded data removed]",
      "text/plain": [
       "<Figure size 1008x720 with 1 Axes>"
      ]
     },
     "metadata": {
      "needs_background": "light"
     },
     "output_type": "display_data"
    }
   ],
   "source": [
    "plt.figure(figsize=(14,10))\n",
    "plt.plot(wcss_df.no_of_clusters, wcss_df.wcss_score, marker='o')\n",
    "plt.title(\"Elbow Method to determine number of clusters(K)\")\n",
    "plt.show()"
   ]
  },
  {
   "cell_type": "markdown",
   "id": "4162623b",
   "metadata": {
    "papermill": {
     "duration": 0.046236,
     "end_time": "2023-04-22T16:38:26.927817",
     "exception": false,
     "start_time": "2023-04-22T16:38:26.881581",
     "status": "completed"
    },
    "tags": []
   },
   "source": [
    "### Inference\n",
    "At 4 clusters, we can see that the decrease in WCSS starts declining. Therefore, the number of clusters within this dataset is **4**\n",
    "* K = 4"
   ]
  },
  {
   "cell_type": "code",
   "execution_count": 16,
   "id": "9c25f222",
   "metadata": {
    "execution": {
     "iopub.execute_input": "2023-04-22T16:38:27.018676Z",
     "iopub.status.busy": "2023-04-22T16:38:27.018325Z",
     "iopub.status.idle": "2023-04-22T16:38:28.450388Z",
     "shell.execute_reply": "2023-04-22T16:38:28.448671Z"
    },
    "papermill": {
     "duration": 1.48249,
     "end_time": "2023-04-22T16:38:28.453413",
     "exception": false,
     "start_time": "2023-04-22T16:38:26.970923",
     "status": "completed"
    },
    "tags": []
   },
   "outputs": [],
   "source": [
    "kmeans_final = KMeans(n_clusters=4, random_state=0, init='k-means++')\n",
    "classlabels = kmeans_final.fit_predict(data)"
   ]
  },
  {
   "cell_type": "code",
   "execution_count": 17,
   "id": "7d49654d",
   "metadata": {
    "execution": {
     "iopub.execute_input": "2023-04-22T16:38:28.539830Z",
     "iopub.status.busy": "2023-04-22T16:38:28.539472Z",
     "iopub.status.idle": "2023-04-22T16:38:28.549945Z",
     "shell.execute_reply": "2023-04-22T16:38:28.548992Z"
    },
    "papermill": {
     "duration": 0.057721,
     "end_time": "2023-04-22T16:38:28.552415",
     "exception": false,
     "start_time": "2023-04-22T16:38:28.494694",
     "status": "completed"
    },
    "tags": []
   },
   "outputs": [],
   "source": [
    "data['classlabels'] = classlabels\n",
    "data.classlabels = data.classlabels.astype(str)\n",
    "data = data.sort_values('classlabels')"
   ]
  },
  {
   "cell_type": "code",
   "execution_count": 18,
   "id": "ca793b8d",
   "metadata": {
    "execution": {
     "iopub.execute_input": "2023-04-22T16:38:28.638984Z",
     "iopub.status.busy": "2023-04-22T16:38:28.638674Z",
     "iopub.status.idle": "2023-04-22T16:38:28.828401Z",
     "shell.execute_reply": "2023-04-22T16:38:28.827222Z"
    },
    "papermill": {
     "duration": 0.238034,
     "end_time": "2023-04-22T16:38:28.831530",
     "exception": false,
     "start_time": "2023-04-22T16:38:28.593496",
     "status": "completed"
    },
    "tags": []
   },
   "outputs": [
    {
     "data": {
      "image/png": "[encoded data removed]",
      "text/plain": [
       "<Figure size 1008x720 with 1 Axes>"
      ]
     },
     "metadata": {
      "needs_background": "light"
     },
     "output_type": "display_data"
    }
   ],
   "source": [
    "plt.figure(figsize=(14,10))\n",
    "sns.histplot(data.classlabels)\n",
    "plt.show()"
   ]
  },
  {
   "cell_type": "markdown",
   "id": "0955629b",
   "metadata": {
    "papermill": {
     "duration": 0.04327,
     "end_time": "2023-04-22T16:38:28.918691",
     "exception": false,
     "start_time": "2023-04-22T16:38:28.875421",
     "status": "completed"
    },
    "tags": []
   },
   "source": [
    "# Evaluating our Model : Silhouette Score\n",
    "\n",
    "The silhouette score is a metric used to evaluate the quality of clustering in a dataset. \\\n",
    "It measures how similar a data point is to its own cluster compared to other clusters.\n",
    "\n",
    "The silhouette score ranges from -1 to 1, with a higher score indicating better clustering performance. \\\n",
    "A score of 1 indicates that a data point is very similar to its own cluster and very dissimilar to other clusters, while a score of -1 indicates the opposite.\n",
    "\n",
    "To calculate the silhouette score for a cluster, the average distance between a data point and all other points in the same cluster is first computed. \\\n",
    "The average distance between the data point and all points in the nearest neighboring cluster is then calculated. The silhouette score for the data point is then given by the difference between these two values, divided by the maximum of the two."
   ]
  },
  {
   "cell_type": "code",
   "execution_count": 19,
   "id": "29b48767",
   "metadata": {
    "execution": {
     "iopub.execute_input": "2023-04-22T16:38:29.010616Z",
     "iopub.status.busy": "2023-04-22T16:38:29.010019Z",
     "iopub.status.idle": "2023-04-22T16:38:29.131970Z",
     "shell.execute_reply": "2023-04-22T16:38:29.130644Z"
    },
    "papermill": {
     "duration": 0.173689,
     "end_time": "2023-04-22T16:38:29.136824",
     "exception": false,
     "start_time": "2023-04-22T16:38:28.963135",
     "status": "completed"
    },
    "tags": []
   },
   "outputs": [
    {
     "name": "stdout",
     "output_type": "stream",
     "text": [
      "Silhouette score: -0.058 ~ 0\n"
     ]
    }
   ],
   "source": [
    "score = silhouette_score(data, kmeans_final.labels_, random_state=0)\n",
    "print(f\"Silhouette score: {score:0.3f} ~ 0\")"
   ]
  },
  {
   "cell_type": "markdown",
   "id": "b359fd24",
   "metadata": {
    "papermill": {
     "duration": 0.045595,
     "end_time": "2023-04-22T16:38:29.237815",
     "exception": false,
     "start_time": "2023-04-22T16:38:29.192220",
     "status": "completed"
    },
    "tags": []
   },
   "source": [
    "Silhouette score of 0 means our model did not work very well. The worse could be -1, but the best can go upto 1."
   ]
  },
  {
   "cell_type": "markdown",
   "id": "ba53afe1",
   "metadata": {
    "papermill": {
     "duration": 0.049323,
     "end_time": "2023-04-22T16:38:29.332682",
     "exception": false,
     "start_time": "2023-04-22T16:38:29.283359",
     "status": "completed"
    },
    "tags": []
   },
   "source": [
    "# Hierarchical clustering - Agglomerative\n",
    "\n",
    "Hierarchical clustering groups similar objects into a dendrogram. It merges similar clusters iteratively, starting with each data point as a separate cluster.  \\\n",
    "This creates a tree-like structure that shows the relationships between clusters and their hierarchy.\n",
    "\n",
    "The dendrogram from hierarchical clustering reveals the hierarchy of clusters at different levels, highlighting natural groupings in the data.  \\\n",
    "It provides a visual representation of the relationships between clusters, helping to identify patterns and outliers, making it a useful tool for exploratory data analysis. For example:\n",
    "\n",
    "Let’s say we have the below points and we want to cluster them into groups:  \\\n",
    "<img src=\"https://cdn.analyticsvidhya.com/wp-content/uploads/2019/05/Screenshot-from-2019-05-15-13-10-32.png\" alt=\"\">\n",
    "\n",
    "We can assign each of these points to a separate cluster:   \\\n",
    "<img src=\"https://cdn.analyticsvidhya.com/wp-content/uploads/2019/05/Screenshot-from-2019-05-15-13-11-28.png\" alt=\"\">\n",
    "\n",
    "Now, based on the similarity of these clusters, we can combine the most similar clusters together and repeat this process until only a single cluster is left:   \\\n",
    "<img src=\"https://cdn.analyticsvidhya.com/wp-content/uploads/2019/05/Screenshot-from-2019-05-15-13-12-35.png\" alt=\"\">\n",
    "\n",
    "We are essentially building a hierarchy of clusters. That’s why this algorithm is called hierarchical clustering. This type of Hierarchical clustering is called **Agglomerative hierarchical clustering**. \\\n",
    "We assign each point to an individual cluster in this technique. Then, at each iteration, we merge the closest pair of clusters and repeat this step until only a single cluster is left:   \\\n",
    "<img src=\"https://cdn.analyticsvidhya.com/wp-content/uploads/2019/05/Screenshot-from-2019-05-15-13-31-06.png\" alt=\"\">"
   ]
  },
  {
   "cell_type": "markdown",
   "id": "df1771ed",
   "metadata": {
    "papermill": {
     "duration": 0.048967,
     "end_time": "2023-04-22T16:38:29.428461",
     "exception": false,
     "start_time": "2023-04-22T16:38:29.379494",
     "status": "completed"
    },
    "tags": []
   },
   "source": [
    "To improve the clustering model, we move to hierarchical clustering"
   ]
  },
  {
   "cell_type": "code",
   "execution_count": 20,
   "id": "a8d9e6bc",
   "metadata": {
    "execution": {
     "iopub.execute_input": "2023-04-22T16:38:29.517234Z",
     "iopub.status.busy": "2023-04-22T16:38:29.516893Z",
     "iopub.status.idle": "2023-04-22T16:38:29.524597Z",
     "shell.execute_reply": "2023-04-22T16:38:29.522567Z"
    },
    "papermill": {
     "duration": 0.055349,
     "end_time": "2023-04-22T16:38:29.527557",
     "exception": false,
     "start_time": "2023-04-22T16:38:29.472208",
     "status": "completed"
    },
    "tags": []
   },
   "outputs": [],
   "source": [
    "new_data = data.drop(['classlabels'], axis=1)"
   ]
  },
  {
   "cell_type": "markdown",
   "id": "f90938b4",
   "metadata": {
    "papermill": {
     "duration": 0.046851,
     "end_time": "2023-04-22T16:38:29.623394",
     "exception": false,
     "start_time": "2023-04-22T16:38:29.576543",
     "status": "completed"
    },
    "tags": []
   },
   "source": [
    "### Distances and Linkages\n",
    "\n",
    "Distances and linkages are two key components of hierarchical clustering\n",
    "* **Distances**: Distances refer to the measure of dissimilarity or similarity between two data points in a dataset.\n",
    "* **Linkages**: Linkages refer to the method used to compute the distance between clusters during the clustering process.\n",
    "\n",
    "With multiple computation options for both distance and linkage in clusters, we calculate the silhouette score for all permutations"
   ]
  },
  {
   "cell_type": "code",
   "execution_count": 21,
   "id": "41b16258",
   "metadata": {
    "execution": {
     "iopub.execute_input": "2023-04-22T16:38:29.720506Z",
     "iopub.status.busy": "2023-04-22T16:38:29.719508Z",
     "iopub.status.idle": "2023-04-22T16:38:29.727819Z",
     "shell.execute_reply": "2023-04-22T16:38:29.725940Z"
    },
    "papermill": {
     "duration": 0.063215,
     "end_time": "2023-04-22T16:38:29.733576",
     "exception": false,
     "start_time": "2023-04-22T16:38:29.670361",
     "status": "completed"
    },
    "tags": []
   },
   "outputs": [],
   "source": [
    "## function to compute scores for all permutations\n",
    "def s_score(distance, linkage):\n",
    "    agc = AgglomerativeClustering(n_clusters=4, affinity=distance, linkage=linkage)\n",
    "    agc.fit_predict(new_data)\n",
    "    score = silhouette_score(new_data, agc.labels_, random_state=0)\n",
    "    return score"
   ]
  },
  {
   "cell_type": "code",
   "execution_count": 22,
   "id": "13acc5f3",
   "metadata": {
    "execution": {
     "iopub.execute_input": "2023-04-22T16:38:29.835726Z",
     "iopub.status.busy": "2023-04-22T16:38:29.835387Z",
     "iopub.status.idle": "2023-04-22T16:38:29.842173Z",
     "shell.execute_reply": "2023-04-22T16:38:29.840391Z"
    },
    "papermill": {
     "duration": 0.060505,
     "end_time": "2023-04-22T16:38:29.845151",
     "exception": false,
     "start_time": "2023-04-22T16:38:29.784646",
     "status": "completed"
    },
    "tags": []
   },
   "outputs": [],
   "source": [
    "distances = ['euclidean', 'l1', 'l2', 'manhattan', 'cosine']\n",
    "linkages = ['ward', 'complete', 'average', 'single']"
   ]
  },
  {
   "cell_type": "code",
   "execution_count": 23,
   "id": "eb8ea827",
   "metadata": {
    "execution": {
     "iopub.execute_input": "2023-04-22T16:38:29.940324Z",
     "iopub.status.busy": "2023-04-22T16:38:29.939939Z",
     "iopub.status.idle": "2023-04-22T16:38:32.867635Z",
     "shell.execute_reply": "2023-04-22T16:38:32.866179Z"
    },
    "papermill": {
     "duration": 2.979164,
     "end_time": "2023-04-22T16:38:32.871564",
     "exception": false,
     "start_time": "2023-04-22T16:38:29.892400",
     "status": "completed"
    },
    "tags": []
   },
   "outputs": [],
   "source": [
    "scoring = {'dist':[], 'link':[], 'sScore':[]}\n",
    "for i in distances:\n",
    "    for j in linkages:\n",
    "        try:\n",
    "            score = s_score(i, j)\n",
    "            scoring['dist'].append(i)\n",
    "            scoring['link'].append(j)\n",
    "            scoring['sScore'].append(score)\n",
    "        except:\n",
    "            scoring['dist'].append(i)\n",
    "            scoring['link'].append(j)\n",
    "            scoring['sScore'].append(np.nan)\n",
    "scoringDf = pd.DataFrame(scoring)\n"
   ]
  },
  {
   "cell_type": "markdown",
   "id": "5f6a3a50",
   "metadata": {
    "papermill": {
     "duration": 0.045398,
     "end_time": "2023-04-22T16:38:32.964817",
     "exception": false,
     "start_time": "2023-04-22T16:38:32.919419",
     "status": "completed"
    },
    "tags": []
   },
   "source": [
    "**NOTE**: We put this process in try-except block since 'ward' only works with 'euclidean' distance. We can now find the best permutation."
   ]
  },
  {
   "cell_type": "code",
   "execution_count": 24,
   "id": "0756fd88",
   "metadata": {
    "execution": {
     "iopub.execute_input": "2023-04-22T16:38:33.056560Z",
     "iopub.status.busy": "2023-04-22T16:38:33.056204Z",
     "iopub.status.idle": "2023-04-22T16:38:33.065405Z",
     "shell.execute_reply": "2023-04-22T16:38:33.063988Z"
    },
    "papermill": {
     "duration": 0.058442,
     "end_time": "2023-04-22T16:38:33.068222",
     "exception": false,
     "start_time": "2023-04-22T16:38:33.009780",
     "status": "completed"
    },
    "tags": []
   },
   "outputs": [],
   "source": [
    "scoringDf.dropna(axis=0, inplace=True)"
   ]
  },
  {
   "cell_type": "code",
   "execution_count": 25,
   "id": "f3da536c",
   "metadata": {
    "execution": {
     "iopub.execute_input": "2023-04-22T16:38:33.161926Z",
     "iopub.status.busy": "2023-04-22T16:38:33.161592Z",
     "iopub.status.idle": "2023-04-22T16:38:33.175743Z",
     "shell.execute_reply": "2023-04-22T16:38:33.174833Z"
    },
    "papermill": {
     "duration": 0.063791,
     "end_time": "2023-04-22T16:38:33.178716",
     "exception": false,
     "start_time": "2023-04-22T16:38:33.114925",
     "status": "completed"
    },
    "tags": []
   },
   "outputs": [
    {
     "data": {
      "text/html": [
       "<div>\n",
       "<style scoped>\n",
       "    .dataframe tbody tr th:only-of-type {\n",
       "        vertical-align: middle;\n",
       "    }\n",
       "\n",
       "    .dataframe tbody tr th {\n",
       "        vertical-align: top;\n",
       "    }\n",
       "\n",
       "    .dataframe thead th {\n",
       "        text-align: right;\n",
       "    }\n",
       "</style>\n",
       "<table border=\"1\" class=\"dataframe\">\n",
       "  <thead>\n",
       "    <tr style=\"text-align: right;\">\n",
       "      <th></th>\n",
       "      <th>dist</th>\n",
       "      <th>link</th>\n",
       "      <th>sScore</th>\n",
       "    </tr>\n",
       "  </thead>\n",
       "  <tbody>\n",
       "    <tr>\n",
       "      <th>18</th>\n",
       "      <td>cosine</td>\n",
       "      <td>average</td>\n",
       "      <td>0.259621</td>\n",
       "    </tr>\n",
       "  </tbody>\n",
       "</table>\n",
       "</div>"
      ],
      "text/plain": [
       "      dist     link    sScore\n",
       "18  cosine  average  0.259621"
      ]
     },
     "execution_count": 25,
     "metadata": {},
     "output_type": "execute_result"
    }
   ],
   "source": [
    "final_result = scoringDf[scoringDf['sScore'] == max(scoringDf['sScore'])]\n",
    "final_result"
   ]
  },
  {
   "cell_type": "markdown",
   "id": "5cdcab2a",
   "metadata": {
    "papermill": {
     "duration": 0.047922,
     "end_time": "2023-04-22T16:38:33.274895",
     "exception": false,
     "start_time": "2023-04-22T16:38:33.226973",
     "status": "completed"
    },
    "tags": []
   },
   "source": [
    "# DBScan Clustering\n",
    "\n",
    "**DBSCAN** stands for **D**ensity-**B**ased **S**patial **C**lustering of **A**pplications with **N**oise.\n",
    "\n",
    "It groups ‘densely grouped’ data points into a single cluster. It can identify clusters in large spatial datasets by looking at the local density of the data points.  \\\n",
    "The most exciting feature of DBSCAN clustering is that it is robust to outliers. It also does not require the number of clusters to be told beforehand, unlike K-Means, where we have to specify the number of centroids.\n",
    "\n",
    "DBSCAN requires only two parameters: epsilon and minPoints. Epsilon is the radius of the circle to be created around each data point to check the density \\\n",
    "and minPoints is the minimum number of data points required inside that circle for that data point to be classified as a Core point\n",
    "\n",
    "<img src=\"https://cdn.analyticsvidhya.com/wp-content/uploads/2020/03/db26.png\" alt=\"\"> <br>\n",
    "\n",
    "#### This is what it looks like:  \n",
    "\n",
    "<img src=\"https://cdn.analyticsvidhya.com/wp-content/uploads/2020/03/db12.png\" alt=\"\"> <br>"
   ]
  },
  {
   "cell_type": "code",
   "execution_count": 26,
   "id": "873feb49",
   "metadata": {
    "execution": {
     "iopub.execute_input": "2023-04-22T16:38:33.371313Z",
     "iopub.status.busy": "2023-04-22T16:38:33.370162Z",
     "iopub.status.idle": "2023-04-22T16:38:33.781170Z",
     "shell.execute_reply": "2023-04-22T16:38:33.779971Z"
    },
    "papermill": {
     "duration": 0.463658,
     "end_time": "2023-04-22T16:38:33.784838",
     "exception": false,
     "start_time": "2023-04-22T16:38:33.321180",
     "status": "completed"
    },
    "tags": []
   },
   "outputs": [
    {
     "name": "stdout",
     "output_type": "stream",
     "text": [
      "Silhouette score: 0.179\n"
     ]
    }
   ],
   "source": [
    "dbs = DBSCAN(eps=2, min_samples=10)\n",
    "dbs.fit_predict(new_data)\n",
    "score = silhouette_score(new_data, dbs.labels_, random_state=0)\n",
    "print(f\"Silhouette score: {score:0.3f}\")"
   ]
  }
 ],
 "metadata": {
  "kernelspec": {
   "display_name": "Python 3",
   "language": "python",
   "name": "python3"
  },
  "language_info": {
   "codemirror_mode": {
    "name": "ipython",
    "version": 3
   },
   "file_extension": ".py",
   "mimetype": "text/x-python",
   "name": "python",
   "nbconvert_exporter": "python",
   "pygments_lexer": "ipython3",
   "version": "3.7.12"
  },
  "papermill": {
   "default_parameters": {},
   "duration": 38.006512,
   "end_time": "2023-04-22T16:38:34.765197",
   "environment_variables": {},
   "exception": null,
   "input_path": "__notebook__.ipynb",
   "output_path": "__notebook__.ipynb",
   "parameters": {},
   "start_time": "2023-04-22T16:37:56.758685",
   "version": "2.3.4"
  }
 },
 "nbformat": 4,
 "nbformat_minor": 5
}
